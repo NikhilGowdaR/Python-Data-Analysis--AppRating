{
 "cells": [
  {
   "cell_type": "code",
   "execution_count": 1,
   "id": "4d187466-b90d-4fb6-84f0-fa71a34f615a",
   "metadata": {},
   "outputs": [],
   "source": [
    "import pandas as pd"
   ]
  },
  {
   "cell_type": "code",
   "execution_count": 2,
   "id": "299877d1-7ad6-4f30-a7a0-eb3cd3118bfd",
   "metadata": {},
   "outputs": [],
   "source": [
    "data = pd.read_csv(\"googleplaystore.csv\")"
   ]
  },
  {
   "cell_type": "code",
   "execution_count": 3,
   "id": "08f65aeb-80be-40d9-b1d3-9a4ba4172164",
   "metadata": {},
   "outputs": [
    {
     "data": {
      "text/plain": [
       "(10841, 13)"
      ]
     },
     "execution_count": 3,
     "metadata": {},
     "output_type": "execute_result"
    }
   ],
   "source": [
    "data.shape"
   ]
  },
  {
   "cell_type": "code",
   "execution_count": 4,
   "id": "a8fc54fd-6aaf-41a1-a70b-827ce3722145",
   "metadata": {},
   "outputs": [
    {
     "data": {
      "text/html": [
       "<div>\n",
       "<style scoped>\n",
       "    .dataframe tbody tr th:only-of-type {\n",
       "        vertical-align: middle;\n",
       "    }\n",
       "\n",
       "    .dataframe tbody tr th {\n",
       "        vertical-align: top;\n",
       "    }\n",
       "\n",
       "    .dataframe thead th {\n",
       "        text-align: right;\n",
       "    }\n",
       "</style>\n",
       "<table border=\"1\" class=\"dataframe\">\n",
       "  <thead>\n",
       "    <tr style=\"text-align: right;\">\n",
       "      <th></th>\n",
       "      <th>App</th>\n",
       "      <th>Category</th>\n",
       "      <th>Rating</th>\n",
       "      <th>Reviews</th>\n",
       "      <th>Size</th>\n",
       "      <th>Installs</th>\n",
       "      <th>Type</th>\n",
       "      <th>Price</th>\n",
       "      <th>Content Rating</th>\n",
       "      <th>Genres</th>\n",
       "      <th>Last Updated</th>\n",
       "      <th>Current Ver</th>\n",
       "      <th>Android Ver</th>\n",
       "    </tr>\n",
       "  </thead>\n",
       "  <tbody>\n",
       "    <tr>\n",
       "      <th>0</th>\n",
       "      <td>Photo Editor &amp; Candy Camera &amp; Grid &amp; ScrapBook</td>\n",
       "      <td>ART_AND_DESIGN</td>\n",
       "      <td>4.1</td>\n",
       "      <td>159</td>\n",
       "      <td>19M</td>\n",
       "      <td>10,000+</td>\n",
       "      <td>Free</td>\n",
       "      <td>0</td>\n",
       "      <td>Everyone</td>\n",
       "      <td>Art &amp; Design</td>\n",
       "      <td>January 7, 2018</td>\n",
       "      <td>1.0.0</td>\n",
       "      <td>4.0.3 and up</td>\n",
       "    </tr>\n",
       "    <tr>\n",
       "      <th>1</th>\n",
       "      <td>Coloring book moana</td>\n",
       "      <td>ART_AND_DESIGN</td>\n",
       "      <td>3.9</td>\n",
       "      <td>967</td>\n",
       "      <td>14M</td>\n",
       "      <td>500,000+</td>\n",
       "      <td>Free</td>\n",
       "      <td>0</td>\n",
       "      <td>Everyone</td>\n",
       "      <td>Art &amp; Design;Pretend Play</td>\n",
       "      <td>January 15, 2018</td>\n",
       "      <td>2.0.0</td>\n",
       "      <td>4.0.3 and up</td>\n",
       "    </tr>\n",
       "    <tr>\n",
       "      <th>2</th>\n",
       "      <td>U Launcher Lite – FREE Live Cool Themes, Hide ...</td>\n",
       "      <td>ART_AND_DESIGN</td>\n",
       "      <td>4.7</td>\n",
       "      <td>87510</td>\n",
       "      <td>8.7M</td>\n",
       "      <td>5,000,000+</td>\n",
       "      <td>Free</td>\n",
       "      <td>0</td>\n",
       "      <td>Everyone</td>\n",
       "      <td>Art &amp; Design</td>\n",
       "      <td>August 1, 2018</td>\n",
       "      <td>1.2.4</td>\n",
       "      <td>4.0.3 and up</td>\n",
       "    </tr>\n",
       "    <tr>\n",
       "      <th>3</th>\n",
       "      <td>Sketch - Draw &amp; Paint</td>\n",
       "      <td>ART_AND_DESIGN</td>\n",
       "      <td>4.5</td>\n",
       "      <td>215644</td>\n",
       "      <td>25M</td>\n",
       "      <td>50,000,000+</td>\n",
       "      <td>Free</td>\n",
       "      <td>0</td>\n",
       "      <td>Teen</td>\n",
       "      <td>Art &amp; Design</td>\n",
       "      <td>June 8, 2018</td>\n",
       "      <td>Varies with device</td>\n",
       "      <td>4.2 and up</td>\n",
       "    </tr>\n",
       "    <tr>\n",
       "      <th>4</th>\n",
       "      <td>Pixel Draw - Number Art Coloring Book</td>\n",
       "      <td>ART_AND_DESIGN</td>\n",
       "      <td>4.3</td>\n",
       "      <td>967</td>\n",
       "      <td>2.8M</td>\n",
       "      <td>100,000+</td>\n",
       "      <td>Free</td>\n",
       "      <td>0</td>\n",
       "      <td>Everyone</td>\n",
       "      <td>Art &amp; Design;Creativity</td>\n",
       "      <td>June 20, 2018</td>\n",
       "      <td>1.1</td>\n",
       "      <td>4.4 and up</td>\n",
       "    </tr>\n",
       "  </tbody>\n",
       "</table>\n",
       "</div>"
      ],
      "text/plain": [
       "                                                 App        Category  Rating  \\\n",
       "0     Photo Editor & Candy Camera & Grid & ScrapBook  ART_AND_DESIGN     4.1   \n",
       "1                                Coloring book moana  ART_AND_DESIGN     3.9   \n",
       "2  U Launcher Lite – FREE Live Cool Themes, Hide ...  ART_AND_DESIGN     4.7   \n",
       "3                              Sketch - Draw & Paint  ART_AND_DESIGN     4.5   \n",
       "4              Pixel Draw - Number Art Coloring Book  ART_AND_DESIGN     4.3   \n",
       "\n",
       "  Reviews  Size     Installs  Type Price Content Rating  \\\n",
       "0     159   19M      10,000+  Free     0       Everyone   \n",
       "1     967   14M     500,000+  Free     0       Everyone   \n",
       "2   87510  8.7M   5,000,000+  Free     0       Everyone   \n",
       "3  215644   25M  50,000,000+  Free     0           Teen   \n",
       "4     967  2.8M     100,000+  Free     0       Everyone   \n",
       "\n",
       "                      Genres      Last Updated         Current Ver  \\\n",
       "0               Art & Design   January 7, 2018               1.0.0   \n",
       "1  Art & Design;Pretend Play  January 15, 2018               2.0.0   \n",
       "2               Art & Design    August 1, 2018               1.2.4   \n",
       "3               Art & Design      June 8, 2018  Varies with device   \n",
       "4    Art & Design;Creativity     June 20, 2018                 1.1   \n",
       "\n",
       "    Android Ver  \n",
       "0  4.0.3 and up  \n",
       "1  4.0.3 and up  \n",
       "2  4.0.3 and up  \n",
       "3    4.2 and up  \n",
       "4    4.4 and up  "
      ]
     },
     "execution_count": 4,
     "metadata": {},
     "output_type": "execute_result"
    }
   ],
   "source": [
    "data.head()"
   ]
  },
  {
   "cell_type": "code",
   "execution_count": 5,
   "id": "36215cc4-3b18-4e91-920a-e44fb91a6c4c",
   "metadata": {},
   "outputs": [
    {
     "data": {
      "text/plain": [
       "140933"
      ]
     },
     "execution_count": 5,
     "metadata": {},
     "output_type": "execute_result"
    }
   ],
   "source": [
    "data.size"
   ]
  },
  {
   "cell_type": "code",
   "execution_count": 6,
   "id": "872fa076-a5d1-4de9-aead-92f83296b831",
   "metadata": {},
   "outputs": [
    {
     "data": {
      "text/plain": [
       "App                  0\n",
       "Category             0\n",
       "Rating            1474\n",
       "Reviews              0\n",
       "Size                 0\n",
       "Installs             0\n",
       "Type                 1\n",
       "Price                0\n",
       "Content Rating       1\n",
       "Genres               0\n",
       "Last Updated         0\n",
       "Current Ver          8\n",
       "Android Ver          3\n",
       "dtype: int64"
      ]
     },
     "execution_count": 6,
     "metadata": {},
     "output_type": "execute_result"
    }
   ],
   "source": [
    "data.isnull().sum()"
   ]
  },
  {
   "cell_type": "code",
   "execution_count": 7,
   "id": "50b3a90b-2e21-4970-b9cd-6eced0d24a8d",
   "metadata": {},
   "outputs": [],
   "source": [
    "data.drop(['Current Ver'],axis=1,inplace=True)"
   ]
  },
  {
   "cell_type": "code",
   "execution_count": 8,
   "id": "ce9bfb74-c68b-4895-a321-4cd35b39a8d2",
   "metadata": {},
   "outputs": [],
   "source": [
    "data.drop(['Rating'],axis=1,inplace=True)"
   ]
  },
  {
   "cell_type": "code",
   "execution_count": 9,
   "id": "0ec3a9a0-04b1-423e-aa9b-f33a000d07c8",
   "metadata": {},
   "outputs": [
    {
     "data": {
      "text/plain": [
       "App               0\n",
       "Category          0\n",
       "Reviews           0\n",
       "Size              0\n",
       "Installs          0\n",
       "Type              1\n",
       "Price             0\n",
       "Content Rating    1\n",
       "Genres            0\n",
       "Last Updated      0\n",
       "Android Ver       3\n",
       "dtype: int64"
      ]
     },
     "execution_count": 9,
     "metadata": {},
     "output_type": "execute_result"
    }
   ],
   "source": [
    "data.isnull().sum()"
   ]
  },
  {
   "cell_type": "code",
   "execution_count": 10,
   "id": "b2c8dfbc-9053-4782-8e44-59492cb7fae2",
   "metadata": {},
   "outputs": [],
   "source": [
    "data.drop(['Type'],axis=1,inplace=True)"
   ]
  },
  {
   "cell_type": "code",
   "execution_count": 11,
   "id": "843915ce-3139-4014-8bed-630449c1779e",
   "metadata": {},
   "outputs": [],
   "source": [
    "data.drop(['Android Ver'],axis=1,inplace=True)"
   ]
  },
  {
   "cell_type": "code",
   "execution_count": 12,
   "id": "0a0c019d",
   "metadata": {},
   "outputs": [],
   "source": [
    "data.drop(['Content Rating'],axis=1,inplace=True)"
   ]
  },
  {
   "cell_type": "code",
   "execution_count": 13,
   "id": "39e55575-79a5-4bf8-9715-a719ab697259",
   "metadata": {},
   "outputs": [
    {
     "data": {
      "text/plain": [
       "App             0\n",
       "Category        0\n",
       "Reviews         0\n",
       "Size            0\n",
       "Installs        0\n",
       "Price           0\n",
       "Genres          0\n",
       "Last Updated    0\n",
       "dtype: int64"
      ]
     },
     "execution_count": 13,
     "metadata": {},
     "output_type": "execute_result"
    }
   ],
   "source": [
    "data.isnull().sum()"
   ]
  },
  {
   "cell_type": "code",
   "execution_count": 14,
   "id": "99f896b0-20a2-43d4-8cc0-1e1c41c518cb",
   "metadata": {},
   "outputs": [
    {
     "data": {
      "text/plain": [
       "0                       19M\n",
       "1                       14M\n",
       "2                      8.7M\n",
       "3                       25M\n",
       "4                      2.8M\n",
       "                ...        \n",
       "10836                   53M\n",
       "10837                  3.6M\n",
       "10838                  9.5M\n",
       "10839    Varies with device\n",
       "10840                   19M\n",
       "Name: Size, Length: 10841, dtype: object"
      ]
     },
     "execution_count": 14,
     "metadata": {},
     "output_type": "execute_result"
    }
   ],
   "source": [
    "data.Size"
   ]
  },
  {
   "cell_type": "code",
   "execution_count": 15,
   "id": "52e6c217-f43b-4b4b-bec8-39df9f3f69c4",
   "metadata": {},
   "outputs": [],
   "source": [
    "\n",
    "import pandas as pd\n",
    "\n",
    "data = pd.read_csv(\"googleplaystore.csv\")\n",
    "\n",
    "\n",
    "# Define a custom conversion function\n",
    "def convert_size(size):\n",
    "    if isinstance(size, float):\n",
    "        return size  # Return the float value unchanged\n",
    "    elif 'M' in size:\n",
    "        return float(size.replace('M', ''))\n",
    "    elif 'k' in size:\n",
    "        return float(size.replace('k', '')) * 0.001\n",
    "    elif size == 'Varies with device':\n",
    "        return None  # or any value that makes sense in your context\n",
    "    else:\n",
    "        # Remove commas and plus signs before converting to float\n",
    "        return float(size.replace(',', '').replace('+', ''))\n",
    "\n",
    "# Apply the conversion function to the 'Size' column\n",
    "data['Size'] = data['Size'].apply(convert_size)\n",
    "\n",
    "# Drop rows where the length of Size is greater than 4\n",
    "data.drop(data[data['Size'].astype(str).str.len() > 4].index, inplace=True)\n"
   ]
  },
  {
   "cell_type": "code",
   "execution_count": 16,
   "id": "3e51e241-02cc-4f8a-8de4-4887adcc5f98",
   "metadata": {},
   "outputs": [
    {
     "name": "stdout",
     "output_type": "stream",
     "text": [
      "                                                 App        Category  Rating  \\\n",
      "0     Photo Editor & Candy Camera & Grid & ScrapBook  ART_AND_DESIGN     4.1   \n",
      "1                                Coloring book moana  ART_AND_DESIGN     3.9   \n",
      "2  U Launcher Lite – FREE Live Cool Themes, Hide ...  ART_AND_DESIGN     4.7   \n",
      "3                              Sketch - Draw & Paint  ART_AND_DESIGN     4.5   \n",
      "4              Pixel Draw - Number Art Coloring Book  ART_AND_DESIGN     4.3   \n",
      "\n",
      "  Reviews  Size     Installs  Type Price Content Rating  \\\n",
      "0     159  19.0      10,000+  Free     0       Everyone   \n",
      "1     967  14.0     500,000+  Free     0       Everyone   \n",
      "2   87510   8.7   5,000,000+  Free     0       Everyone   \n",
      "3  215644  25.0  50,000,000+  Free     0           Teen   \n",
      "4     967   2.8     100,000+  Free     0       Everyone   \n",
      "\n",
      "                      Genres      Last Updated         Current Ver  \\\n",
      "0               Art & Design   January 7, 2018               1.0.0   \n",
      "1  Art & Design;Pretend Play  January 15, 2018               2.0.0   \n",
      "2               Art & Design    August 1, 2018               1.2.4   \n",
      "3               Art & Design      June 8, 2018  Varies with device   \n",
      "4    Art & Design;Creativity     June 20, 2018                 1.1   \n",
      "\n",
      "    Android Ver  \n",
      "0  4.0.3 and up  \n",
      "1  4.0.3 and up  \n",
      "2  4.0.3 and up  \n",
      "3    4.2 and up  \n",
      "4    4.4 and up  \n"
     ]
    }
   ],
   "source": [
    "print(data.head())"
   ]
  },
  {
   "cell_type": "code",
   "execution_count": 17,
   "id": "70b15580-d25c-411f-8f06-224f9a85f1a2",
   "metadata": {},
   "outputs": [
    {
     "name": "stdout",
     "output_type": "stream",
     "text": [
      "<class 'pandas.core.frame.DataFrame'>\n",
      "Int64Index: 10538 entries, 0 to 10840\n",
      "Data columns (total 13 columns):\n",
      " #   Column          Non-Null Count  Dtype  \n",
      "---  ------          --------------  -----  \n",
      " 0   App             10538 non-null  object \n",
      " 1   Category        10538 non-null  object \n",
      " 2   Rating          9119 non-null   float64\n",
      " 3   Reviews         10538 non-null  object \n",
      " 4   Size            8843 non-null   float64\n",
      " 5   Installs        10538 non-null  object \n",
      " 6   Type            10537 non-null  object \n",
      " 7   Price           10538 non-null  object \n",
      " 8   Content Rating  10538 non-null  object \n",
      " 9   Genres          10538 non-null  object \n",
      " 10  Last Updated    10538 non-null  object \n",
      " 11  Current Ver     10534 non-null  object \n",
      " 12  Android Ver     10536 non-null  object \n",
      "dtypes: float64(2), object(11)\n",
      "memory usage: 1.1+ MB\n"
     ]
    }
   ],
   "source": [
    "data.info()"
   ]
  },
  {
   "cell_type": "code",
   "execution_count": 18,
   "id": "8a917099-0c91-4790-a60c-5bd4e27f022e",
   "metadata": {},
   "outputs": [
    {
     "data": {
      "text/plain": [
       "0           159\n",
       "1           967\n",
       "2         87510\n",
       "3        215644\n",
       "4           967\n",
       "          ...  \n",
       "10836        38\n",
       "10837         4\n",
       "10838         3\n",
       "10839       114\n",
       "10840    398307\n",
       "Name: Reviews, Length: 10538, dtype: object"
      ]
     },
     "execution_count": 18,
     "metadata": {},
     "output_type": "execute_result"
    }
   ],
   "source": [
    "data.Reviews"
   ]
  },
  {
   "cell_type": "code",
   "execution_count": 19,
   "id": "0a4df108-0d1c-438c-bea1-96d4df31ac65",
   "metadata": {},
   "outputs": [
    {
     "data": {
      "text/plain": [
       "0           159.0\n",
       "1           967.0\n",
       "2         87510.0\n",
       "3        215644.0\n",
       "4           967.0\n",
       "           ...   \n",
       "10836        38.0\n",
       "10837         4.0\n",
       "10838         3.0\n",
       "10839       114.0\n",
       "10840    398307.0\n",
       "Name: Reviews, Length: 10538, dtype: float64"
      ]
     },
     "execution_count": 19,
     "metadata": {},
     "output_type": "execute_result"
    }
   ],
   "source": [
    "data.Reviews.astype(float) # task 4.2 completed"
   ]
  },
  {
   "cell_type": "code",
   "execution_count": 20,
   "id": "2739d6cf-742d-44c6-a446-a80108e87585",
   "metadata": {},
   "outputs": [],
   "source": [
    "###Installs field is currently stored as string and has values like 1,000,000+. \n",
    "####1)Treat 1,000,000+ as 1,000,000    2) remove ‘+’, ‘,’ from the field, convert it to integer"
   ]
  },
  {
   "cell_type": "code",
   "execution_count": 21,
   "id": "de7ebe47-2d55-4c38-ad7b-c2a2a0c6df53",
   "metadata": {},
   "outputs": [
    {
     "name": "stderr",
     "output_type": "stream",
     "text": [
      "/tmp/ipykernel_187/1856641872.py:1: FutureWarning: The default value of regex will change from True to False in a future version.\n",
      "  data.Installs.str.replace('[,+]','').astype(float)\n"
     ]
    },
    {
     "data": {
      "text/plain": [
       "0           10000.0\n",
       "1          500000.0\n",
       "2         5000000.0\n",
       "3        50000000.0\n",
       "4          100000.0\n",
       "            ...    \n",
       "10836        5000.0\n",
       "10837         100.0\n",
       "10838        1000.0\n",
       "10839        1000.0\n",
       "10840    10000000.0\n",
       "Name: Installs, Length: 10538, dtype: float64"
      ]
     },
     "execution_count": 21,
     "metadata": {},
     "output_type": "execute_result"
    }
   ],
   "source": [
    "data.Installs.str.replace('[,+]','').astype(float)"
   ]
  },
  {
   "cell_type": "code",
   "execution_count": 22,
   "id": "5cdef407-c1e9-4d5c-b227-28162f203868",
   "metadata": {},
   "outputs": [],
   "source": [
    "###Price field is a string and has $ symbol. Remove ‘$’ sign, and convert it to numeric."
   ]
  },
  {
   "cell_type": "code",
   "execution_count": 23,
   "id": "81209ec8-42b3-4374-89b0-142fe150fd18",
   "metadata": {},
   "outputs": [
    {
     "name": "stderr",
     "output_type": "stream",
     "text": [
      "/tmp/ipykernel_187/1466606.py:1: FutureWarning: The default value of regex will change from True to False in a future version. In addition, single character regular expressions will *not* be treated as literal strings when regex=True.\n",
      "  data.Price.str.replace('$','').astype(float)\n"
     ]
    },
    {
     "data": {
      "text/plain": [
       "0        0.0\n",
       "1        0.0\n",
       "2        0.0\n",
       "3        0.0\n",
       "4        0.0\n",
       "        ... \n",
       "10836    0.0\n",
       "10837    0.0\n",
       "10838    0.0\n",
       "10839    0.0\n",
       "10840    0.0\n",
       "Name: Price, Length: 10538, dtype: float64"
      ]
     },
     "execution_count": 23,
     "metadata": {},
     "output_type": "execute_result"
    }
   ],
   "source": [
    "data.Price.str.replace('$','').astype(float)"
   ]
  },
  {
   "cell_type": "code",
   "execution_count": 24,
   "id": "76d788b9-9551-4110-b389-62d7d53ed2e5",
   "metadata": {},
   "outputs": [],
   "source": [
    "###Sanity checks:Average rating should be between 1 and 5 as only these values are allowed on the play store.\n",
    "###Drop the rows that have a value outside this range."
   ]
  },
  {
   "cell_type": "code",
   "execution_count": 25,
   "id": "eaa73968-1fe6-49d2-85ca-6a14c3f63e91",
   "metadata": {},
   "outputs": [
    {
     "data": {
      "text/plain": [
       "0        4.1\n",
       "1        3.9\n",
       "2        4.7\n",
       "3        4.5\n",
       "4        4.3\n",
       "        ... \n",
       "10836    4.5\n",
       "10837    5.0\n",
       "10838    NaN\n",
       "10839    4.5\n",
       "10840    4.5\n",
       "Name: Rating, Length: 10538, dtype: float64"
      ]
     },
     "execution_count": 25,
     "metadata": {},
     "output_type": "execute_result"
    }
   ],
   "source": [
    "data.Rating"
   ]
  },
  {
   "cell_type": "code",
   "execution_count": 26,
   "id": "138707b2-662e-466f-86bd-77064d2638e2",
   "metadata": {},
   "outputs": [],
   "source": [
    "data= data[(data['Rating']>=1) & (data['Rating']<=5)]"
   ]
  },
  {
   "cell_type": "code",
   "execution_count": 27,
   "id": "9e272c4d-edad-4afc-a511-78e938d1fa3a",
   "metadata": {},
   "outputs": [],
   "source": [
    "## we can also use data = data.drop(data[(data['Rating'] < 1) | (data['Rating'] > 5)].index)"
   ]
  },
  {
   "cell_type": "code",
   "execution_count": 28,
   "id": "3b1ecab0-c519-4ee4-8e33-5878af3c665a",
   "metadata": {},
   "outputs": [],
   "source": [
    "data = data.drop(data[(data['Rating'] < 1) | (data['Rating'] > 5)].index)"
   ]
  },
  {
   "cell_type": "code",
   "execution_count": 29,
   "id": "f2adab2b-c85f-4f64-b17e-89a48101e54a",
   "metadata": {},
   "outputs": [
    {
     "data": {
      "text/plain": [
       "0        4.1\n",
       "1        3.9\n",
       "2        4.7\n",
       "3        4.5\n",
       "4        4.3\n",
       "        ... \n",
       "10834    4.0\n",
       "10836    4.5\n",
       "10837    5.0\n",
       "10839    4.5\n",
       "10840    4.5\n",
       "Name: Rating, Length: 9119, dtype: float64"
      ]
     },
     "execution_count": 29,
     "metadata": {},
     "output_type": "execute_result"
    }
   ],
   "source": [
    "data.Rating"
   ]
  },
  {
   "cell_type": "code",
   "execution_count": 30,
   "id": "3fe98c52-0d92-490a-8c39-6ebfcc4d6b14",
   "metadata": {},
   "outputs": [],
   "source": [
    "###Reviews should not be more than installs as only those who installed can review the app. If there are any such records, drop them.\n"
   ]
  },
  {
   "cell_type": "code",
   "execution_count": 31,
   "id": "80745b8d-607c-44bc-a748-6bd2a8e7a48b",
   "metadata": {},
   "outputs": [],
   "source": [
    "data= data[data['Reviews']<=data['Installs']]"
   ]
  },
  {
   "cell_type": "code",
   "execution_count": 32,
   "id": "de9ac6c6-6fb6-466e-a9b3-ff3d2815502f",
   "metadata": {},
   "outputs": [],
   "source": [
    "### we can also use data.drop(data[data['Reviews'] > data['Installs']].index, inplace=True)"
   ]
  },
  {
   "cell_type": "code",
   "execution_count": 33,
   "id": "91bd1031-75bc-4f31-9d52-fbeda3884179",
   "metadata": {},
   "outputs": [
    {
     "data": {
      "text/plain": [
       "3        215644\n",
       "5           167\n",
       "6           178\n",
       "16         3632\n",
       "18       194216\n",
       "          ...  \n",
       "10791      1287\n",
       "10793     28510\n",
       "10800       174\n",
       "10827       117\n",
       "10836        38\n",
       "Name: Reviews, Length: 1945, dtype: object"
      ]
     },
     "execution_count": 33,
     "metadata": {},
     "output_type": "execute_result"
    }
   ],
   "source": [
    "data.Reviews"
   ]
  },
  {
   "cell_type": "code",
   "execution_count": 34,
   "id": "57d9b074-32c3-4cf9-928f-3d97a5a97477",
   "metadata": {},
   "outputs": [],
   "source": [
    "###For free apps (type = “Free”), the price should not be >0. Drop any such rows"
   ]
  },
  {
   "cell_type": "code",
   "execution_count": 35,
   "id": "58a90366-6eb6-4a7b-885e-3e502c035d0c",
   "metadata": {},
   "outputs": [
    {
     "name": "stdout",
     "output_type": "stream",
     "text": [
      "<class 'pandas.core.frame.DataFrame'>\n",
      "Int64Index: 1945 entries, 3 to 10836\n",
      "Data columns (total 13 columns):\n",
      " #   Column          Non-Null Count  Dtype  \n",
      "---  ------          --------------  -----  \n",
      " 0   App             1945 non-null   object \n",
      " 1   Category        1945 non-null   object \n",
      " 2   Rating          1945 non-null   float64\n",
      " 3   Reviews         1945 non-null   object \n",
      " 4   Size            1627 non-null   float64\n",
      " 5   Installs        1945 non-null   object \n",
      " 6   Type            1945 non-null   object \n",
      " 7   Price           1945 non-null   object \n",
      " 8   Content Rating  1945 non-null   object \n",
      " 9   Genres          1945 non-null   object \n",
      " 10  Last Updated    1945 non-null   object \n",
      " 11  Current Ver     1943 non-null   object \n",
      " 12  Android Ver     1945 non-null   object \n",
      "dtypes: float64(2), object(11)\n",
      "memory usage: 212.7+ KB\n"
     ]
    }
   ],
   "source": [
    "data.info()"
   ]
  },
  {
   "cell_type": "code",
   "execution_count": 36,
   "id": "7220db88-f349-4cd1-bb3f-1f270a6e7ef0",
   "metadata": {},
   "outputs": [],
   "source": [
    "data= data.drop(data[(data['Type']== 'Free')&(data['Price']!= '0' )].index)"
   ]
  },
  {
   "cell_type": "code",
   "execution_count": 37,
   "id": "a4436abd-59e0-4599-9625-82f4045c751c",
   "metadata": {},
   "outputs": [
    {
     "data": {
      "text/html": [
       "<div>\n",
       "<style scoped>\n",
       "    .dataframe tbody tr th:only-of-type {\n",
       "        vertical-align: middle;\n",
       "    }\n",
       "\n",
       "    .dataframe tbody tr th {\n",
       "        vertical-align: top;\n",
       "    }\n",
       "\n",
       "    .dataframe thead th {\n",
       "        text-align: right;\n",
       "    }\n",
       "</style>\n",
       "<table border=\"1\" class=\"dataframe\">\n",
       "  <thead>\n",
       "    <tr style=\"text-align: right;\">\n",
       "      <th></th>\n",
       "      <th>App</th>\n",
       "      <th>Category</th>\n",
       "      <th>Rating</th>\n",
       "      <th>Reviews</th>\n",
       "      <th>Size</th>\n",
       "      <th>Installs</th>\n",
       "      <th>Type</th>\n",
       "      <th>Price</th>\n",
       "      <th>Content Rating</th>\n",
       "      <th>Genres</th>\n",
       "      <th>Last Updated</th>\n",
       "      <th>Current Ver</th>\n",
       "      <th>Android Ver</th>\n",
       "    </tr>\n",
       "  </thead>\n",
       "  <tbody>\n",
       "  </tbody>\n",
       "</table>\n",
       "</div>"
      ],
      "text/plain": [
       "Empty DataFrame\n",
       "Columns: [App, Category, Rating, Reviews, Size, Installs, Type, Price, Content Rating, Genres, Last Updated, Current Ver, Android Ver]\n",
       "Index: []"
      ]
     },
     "execution_count": 37,
     "metadata": {},
     "output_type": "execute_result"
    }
   ],
   "source": [
    "\n",
    "# Assuming 'column_name' is the name of the column you want to search\n",
    "word_to_find = 'Free'\n",
    "result = data[data['Price'].str.contains(word_to_find, case=False, na=False)]\n",
    "result"
   ]
  },
  {
   "cell_type": "code",
   "execution_count": 38,
   "id": "f45ef316-1080-4424-b583-53d9881aa897",
   "metadata": {},
   "outputs": [],
   "source": [
    "###Performing univariate analysis: "
   ]
  },
  {
   "cell_type": "code",
   "execution_count": 39,
   "id": "0726d853-fe2d-4be0-9db7-cae98dd83a9c",
   "metadata": {},
   "outputs": [],
   "source": [
    "#Boxplot for Price Are there any outliers? Think about the price of usual apps on Play Store."
   ]
  },
  {
   "cell_type": "code",
   "execution_count": 40,
   "id": "80aa486e-054c-4b36-b8df-39bde93bd2e0",
   "metadata": {},
   "outputs": [],
   "source": [
    "\n",
    "import matplotlib.pyplot as plt\n",
    "import seaborn as sns"
   ]
  },
  {
   "cell_type": "code",
   "execution_count": 41,
   "id": "4a3d637e-94db-4374-9ea1-29f6af0629f7",
   "metadata": {},
   "outputs": [
    {
     "data": {
      "image/png": "[encoded data removed]",
      "text/plain": [
       "<Figure size 360x360 with 1 Axes>"
      ]
     },
     "metadata": {
      "needs_background": "light"
     },
     "output_type": "display_data"
    }
   ],
   "source": [
    "\n",
    "data['Price'] = data['Price'].replace('[\\$,]', '', regex=True).astype(float)\n",
    "# Create a boxplot for the 'Price' column\n",
    "plt.figure(figsize=(5,5))\n",
    "sns.boxplot(x=data['Price'])\n",
    "\n",
    "# Set plot labels and title\n",
    "plt.xlabel('Price')\n",
    "plt.title('Boxplot of App Prices on Play Store')\n",
    "\n",
    "# Display the plot\n",
    "plt.show()"
   ]
  },
  {
   "cell_type": "code",
   "execution_count": 42,
   "id": "bde76609-18a8-49d2-850e-736ba1b6627b",
   "metadata": {},
   "outputs": [
    {
     "data": {
      "image/png": "[encoded data removed]",
      "text/plain": [
       "<Figure size 576x432 with 1 Axes>"
      ]
     },
     "metadata": {
      "needs_background": "light"
     },
     "output_type": "display_data"
    }
   ],
   "source": [
    "# Calculate the interquartile range (IQR) for 'Price'\n",
    "Q1 = data['Price'].quantile(0.2)\n",
    "Q3 = data['Price'].quantile(0.8)\n",
    "IQR = Q3 - Q1\n",
    "\n",
    "# Define the upper and lower bounds for identifying outliers\n",
    "lower_bound = Q1 - 1.5 * IQR\n",
    "upper_bound = Q3 + 1.5 * IQR\n",
    "\n",
    "# Identify outliers\n",
    "outliers = data[(data['Price'] < lower_bound) | (data['Price'] > upper_bound)]\n",
    "\n",
    "# Create a boxplot for the 'Price' column\n",
    "plt.figure(figsize=(8, 6))\n",
    "sns.boxplot(x=data['Price'])\n",
    "\n",
    "# Mark the identified outliers on the boxplot\n",
    "plt.scatter(outliers.index, outliers['Price'], color='red', label='Outliers')\n",
    "\n",
    "# Set plot labels and title\n",
    "plt.xlabel('Price')\n",
    "plt.title('Boxplot of App Prices on Play Store with Outliers')\n",
    "\n",
    "# Display the plot\n",
    "plt.legend()\n",
    "plt.show()"
   ]
  },
  {
   "cell_type": "code",
   "execution_count": 43,
   "id": "f952e1fb-fbcf-41f3-80d6-a146b517e094",
   "metadata": {},
   "outputs": [
    {
     "data": {
      "image/png": "[encoded data removed]",
      "text/plain": [
       "<Figure size 576x432 with 1 Axes>"
      ]
     },
     "metadata": {
      "needs_background": "light"
     },
     "output_type": "display_data"
    }
   ],
   "source": [
    "data['Reviews'] = data['Reviews'].replace('[\\$,]', '', regex=True).astype(float)\n",
    "\n",
    "# Calculate the interquartile range (IQR) for \n",
    "Q1 = data['Reviews'].quantile(0.2)\n",
    "Q3 = data['Reviews'].quantile(0.8)\n",
    "IQR = Q3 - Q1\n",
    "\n",
    "# Define the upper and lower bounds for identifying outliers\n",
    "lower_bound = Q1 - 1.5 * IQR\n",
    "upper_bound = Q3 + 1.5 * IQR\n",
    "\n",
    "# Identify outliers\n",
    "outliers = data[(data['Reviews'] < lower_bound) | (data['Reviews'] > upper_bound)]\n",
    "\n",
    "\n",
    "# Create a boxplot for the 'Reviews' column\n",
    "plt.figure(figsize=(8, 6))\n",
    "sns.boxplot(x=data['Reviews'])\n",
    "\n",
    "# Set plot labels and title\n",
    "plt.xlabel('Number of Reviews')\n",
    "plt.title('Boxplot of Number of Reviews on Play Store')\n",
    "\n",
    "# Display the plot\n",
    "plt.show()"
   ]
  },
  {
   "cell_type": "code",
   "execution_count": 44,
   "id": "8b216bbe-c1ce-49e8-a27f-bd59f2ced102",
   "metadata": {},
   "outputs": [
    {
     "data": {
      "image/png": "[encoded data removed]",
      "text/plain": [
       "<Figure size 720x432 with 1 Axes>"
      ]
     },
     "metadata": {
      "needs_background": "light"
     },
     "output_type": "display_data"
    }
   ],
   "source": [
    "data['Rating'] = data['Rating'].replace('[\\$,]', '', regex=True).astype(float)\n",
    "\n",
    "\n",
    "plt.figure(figsize=(10,6))\n",
    "plt.hist(data['Rating'], bins=30 , color='skyblue')\n",
    "\n",
    "\n",
    "plt.xlabel('Rating')\n",
    "plt.ylabel('Frequyency')\n",
    "plt.title('Histogram for rating')\n",
    "\n",
    "plt.show()\n"
   ]
  },
  {
   "cell_type": "code",
   "execution_count": 45,
   "id": "56d1ab4d-adda-406b-bbf1-4d58ac9d8e6f",
   "metadata": {},
   "outputs": [],
   "source": [
    "##Histogram for Size\n",
    "\n",
    "###Note down your observations for the plots made above. Which of these seem to have outliers?"
   ]
  },
  {
   "cell_type": "code",
   "execution_count": 46,
   "id": "945519cf-f075-4a91-aba9-fd12fbf4d59d",
   "metadata": {},
   "outputs": [
    {
     "name": "stdout",
     "output_type": "stream",
     "text": [
      "<class 'pandas.core.frame.DataFrame'>\n",
      "Int64Index: 1945 entries, 3 to 10836\n",
      "Data columns (total 13 columns):\n",
      " #   Column          Non-Null Count  Dtype  \n",
      "---  ------          --------------  -----  \n",
      " 0   App             1945 non-null   object \n",
      " 1   Category        1945 non-null   object \n",
      " 2   Rating          1945 non-null   float64\n",
      " 3   Reviews         1945 non-null   float64\n",
      " 4   Size            1627 non-null   float64\n",
      " 5   Installs        1945 non-null   object \n",
      " 6   Type            1945 non-null   object \n",
      " 7   Price           1945 non-null   float64\n",
      " 8   Content Rating  1945 non-null   object \n",
      " 9   Genres          1945 non-null   object \n",
      " 10  Last Updated    1945 non-null   object \n",
      " 11  Current Ver     1943 non-null   object \n",
      " 12  Android Ver     1945 non-null   object \n",
      "dtypes: float64(4), object(9)\n",
      "memory usage: 212.7+ KB\n"
     ]
    }
   ],
   "source": [
    "data.info()"
   ]
  },
  {
   "cell_type": "code",
   "execution_count": 47,
   "id": "2e9201f1-d384-46bf-b5d4-dfc8cda42b35",
   "metadata": {},
   "outputs": [
    {
     "data": {
      "image/png": "[encoded data removed]",
      "text/plain": [
       "<Figure size 720x432 with 1 Axes>"
      ]
     },
     "metadata": {
      "needs_background": "light"
     },
     "output_type": "display_data"
    }
   ],
   "source": [
    "plt.figure(figsize=(10,6))\n",
    "plt.hist(data['Size'], bins=30 , color='skyblue')\n",
    "\n",
    "\n",
    "plt.xlabel('Size in MB ')\n",
    "plt.ylabel('no of apps')\n",
    "plt.title('Histogram for Size')\n",
    "\n",
    "plt.show()\n"
   ]
  },
  {
   "cell_type": "code",
   "execution_count": 48,
   "id": "2f277058-d6b1-444c-b69d-ce60ba57f9cb",
   "metadata": {},
   "outputs": [
    {
     "name": "stdout",
     "output_type": "stream",
     "text": [
      "                    App Category  Rating  Reviews  Size Installs  Type  \\\n",
      "5356  I Am Rich Premium  FINANCE     4.1   1867.0   4.7  50,000+  Paid   \n",
      "5362      I Am Rich Pro   FAMILY     4.4    201.0   2.7   5,000+  Paid   \n",
      "5369          I am Rich  FINANCE     4.3    180.0   3.8   5,000+  Paid   \n",
      "\n",
      "       Price Content Rating         Genres       Last Updated Current Ver  \\\n",
      "5356  399.99       Everyone        Finance  November 12, 2017         1.6   \n",
      "5362  399.99       Everyone  Entertainment       May 30, 2017        1.54   \n",
      "5369  399.99       Everyone        Finance     March 22, 2018         1.0   \n",
      "\n",
      "     Android Ver  \n",
      "5356  4.0 and up  \n",
      "5362  1.6 and up  \n",
      "5369  4.2 and up  \n"
     ]
    }
   ],
   "source": [
    "# Display records with very high prices (e.g., $200)\n",
    "high_price_records = data[data['Price']> 200]\n",
    "print(high_price_records)\n"
   ]
  },
  {
   "cell_type": "code",
   "execution_count": 49,
   "id": "b469c9fa-afc9-431a-908b-07f12f34958c",
   "metadata": {},
   "outputs": [
    {
     "data": {
      "text/plain": [
       "3        0.0\n",
       "5        0.0\n",
       "6        0.0\n",
       "16       0.0\n",
       "18       0.0\n",
       "        ... \n",
       "10791    0.0\n",
       "10793    0.0\n",
       "10800    0.0\n",
       "10827    0.0\n",
       "10836    0.0\n",
       "Name: Price, Length: 1942, dtype: float64"
      ]
     },
     "execution_count": 49,
     "metadata": {},
     "output_type": "execute_result"
    }
   ],
   "source": [
    "# Drop records with price greater than $200\n",
    "data = data[data['Price'] <= 200]\n",
    "\n",
    "data.Price"
   ]
  },
  {
   "cell_type": "code",
   "execution_count": 50,
   "id": "531ef7f3-3470-42a8-b96f-31dfe9c133e4",
   "metadata": {},
   "outputs": [],
   "source": [
    "#Reviews: Very few apps have very high number of reviews. These are all star apps that don’t help with the analysis and, in fact, will skew it. Drop records having more than 2 million reviews."
   ]
  },
  {
   "cell_type": "code",
   "execution_count": 51,
   "id": "c3a2bd8d-0e5e-4738-9d6d-6b8e06ffad62",
   "metadata": {},
   "outputs": [
    {
     "name": "stdout",
     "output_type": "stream",
     "text": [
      "                                              App       Category  Rating  \\\n",
      "342                               Viber Messenger  COMMUNICATION     4.3   \n",
      "347                 imo free video calls and chat  COMMUNICATION     4.3   \n",
      "371         Google Duo - High Quality Video Calls  COMMUNICATION     4.6   \n",
      "378   UC Browser - Fast Download Private & Secure  COMMUNICATION     4.5   \n",
      "383                 imo free video calls and chat  COMMUNICATION     4.3   \n",
      "...                                           ...            ...     ...   \n",
      "8261                  MARVEL Contest of Champions           GAME     4.3   \n",
      "8273                          MARVEL Future Fight         FAMILY     4.6   \n",
      "8399                          DEER HUNTER CLASSIC           GAME     4.4   \n",
      "9140                               EA SPORTS UFC®         SPORTS     4.5   \n",
      "9142                    Need for Speed™ No Limits           GAME     4.4   \n",
      "\n",
      "         Reviews  Size      Installs  Type  Price Content Rating  \\\n",
      "342   11334799.0   NaN  500,000,000+  Free    0.0       Everyone   \n",
      "347    4785892.0  11.0  500,000,000+  Free    0.0       Everyone   \n",
      "371    2083237.0   NaN  500,000,000+  Free    0.0       Everyone   \n",
      "378   17712922.0  40.0  500,000,000+  Free    0.0           Teen   \n",
      "383    4785988.0  11.0  500,000,000+  Free    0.0       Everyone   \n",
      "...          ...   ...           ...   ...    ...            ...   \n",
      "8261   2468915.0  92.0   50,000,000+  Free    0.0           Teen   \n",
      "8273   2354042.0  72.0   50,000,000+  Free    0.0   Everyone 10+   \n",
      "8399   3941129.0  77.0   50,000,000+  Free    0.0           Teen   \n",
      "9140   2371338.0  37.0   50,000,000+  Free    0.0           Teen   \n",
      "9142   3344300.0  22.0   50,000,000+  Free    0.0   Everyone 10+   \n",
      "\n",
      "             Genres    Last Updated               Current Ver  \\\n",
      "342   Communication   July 18, 2018        Varies with device   \n",
      "347   Communication    June 8, 2018          9.8.000000010501   \n",
      "371   Communication   July 31, 2018  37.1.206017801.DR37_RC14   \n",
      "378   Communication  August 2, 2018               12.8.5.1121   \n",
      "383   Communication    June 8, 2018          9.8.000000010501   \n",
      "...             ...             ...                       ...   \n",
      "8261         Action   July 30, 2018                    19.1.0   \n",
      "8273   Role Playing    July 3, 2018                     4.2.0   \n",
      "8399         Action   July 16, 2018                    3.12.0   \n",
      "9140         Sports   July 24, 2017               1.9.3097721   \n",
      "9142         Racing   July 24, 2018                    2.12.1   \n",
      "\n",
      "             Android Ver  \n",
      "342   Varies with device  \n",
      "347           4.0 and up  \n",
      "371           4.4 and up  \n",
      "378           4.0 and up  \n",
      "383           4.0 and up  \n",
      "...                  ...  \n",
      "8261        4.0.3 and up  \n",
      "8273        4.0.3 and up  \n",
      "8399          3.0 and up  \n",
      "9140        2.3.3 and up  \n",
      "9142          4.1 and up  \n",
      "\n",
      "[83 rows x 13 columns]\n"
     ]
    }
   ],
   "source": [
    "# Display records with very high reviews (e.g., $200)\n",
    "high_Reviews_records = data[data['Reviews']> 2000000]\n",
    "print(high_Reviews_records)"
   ]
  },
  {
   "cell_type": "code",
   "execution_count": 52,
   "id": "52b5c995-19b0-4921-991a-c8967710b58a",
   "metadata": {},
   "outputs": [],
   "source": [
    "# Drop records with Reviews greater than 2 million\n",
    "data = data[data['Reviews'] >= 2000000]\n"
   ]
  },
  {
   "cell_type": "code",
   "execution_count": null,
   "id": "fdef9275-4d65-43d1-b946-9a7f3b5b7ed3",
   "metadata": {},
   "outputs": [],
   "source": []
  },
  {
   "cell_type": "code",
   "execution_count": 53,
   "id": "164ccbb4-b133-4ef7-8bfc-0e07173ee5d8",
   "metadata": {},
   "outputs": [
    {
     "data": {
      "text/html": [
       "<div>\n",
       "<style scoped>\n",
       "    .dataframe tbody tr th:only-of-type {\n",
       "        vertical-align: middle;\n",
       "    }\n",
       "\n",
       "    .dataframe tbody tr th {\n",
       "        vertical-align: top;\n",
       "    }\n",
       "\n",
       "    .dataframe thead th {\n",
       "        text-align: right;\n",
       "    }\n",
       "</style>\n",
       "<table border=\"1\" class=\"dataframe\">\n",
       "  <thead>\n",
       "    <tr style=\"text-align: right;\">\n",
       "      <th></th>\n",
       "      <th>App</th>\n",
       "      <th>Category</th>\n",
       "      <th>Rating</th>\n",
       "      <th>Reviews</th>\n",
       "      <th>Size</th>\n",
       "      <th>Installs</th>\n",
       "      <th>Type</th>\n",
       "      <th>Price</th>\n",
       "      <th>Content Rating</th>\n",
       "      <th>Genres</th>\n",
       "      <th>Last Updated</th>\n",
       "      <th>Current Ver</th>\n",
       "      <th>Android Ver</th>\n",
       "    </tr>\n",
       "  </thead>\n",
       "  <tbody>\n",
       "    <tr>\n",
       "      <th>342</th>\n",
       "      <td>Viber Messenger</td>\n",
       "      <td>COMMUNICATION</td>\n",
       "      <td>4.3</td>\n",
       "      <td>11334799.0</td>\n",
       "      <td>NaN</td>\n",
       "      <td>500,000,000+</td>\n",
       "      <td>Free</td>\n",
       "      <td>0.0</td>\n",
       "      <td>Everyone</td>\n",
       "      <td>Communication</td>\n",
       "      <td>July 18, 2018</td>\n",
       "      <td>Varies with device</td>\n",
       "      <td>Varies with device</td>\n",
       "    </tr>\n",
       "    <tr>\n",
       "      <th>347</th>\n",
       "      <td>imo free video calls and chat</td>\n",
       "      <td>COMMUNICATION</td>\n",
       "      <td>4.3</td>\n",
       "      <td>4785892.0</td>\n",
       "      <td>11.0</td>\n",
       "      <td>500,000,000+</td>\n",
       "      <td>Free</td>\n",
       "      <td>0.0</td>\n",
       "      <td>Everyone</td>\n",
       "      <td>Communication</td>\n",
       "      <td>June 8, 2018</td>\n",
       "      <td>9.8.000000010501</td>\n",
       "      <td>4.0 and up</td>\n",
       "    </tr>\n",
       "    <tr>\n",
       "      <th>371</th>\n",
       "      <td>Google Duo - High Quality Video Calls</td>\n",
       "      <td>COMMUNICATION</td>\n",
       "      <td>4.6</td>\n",
       "      <td>2083237.0</td>\n",
       "      <td>NaN</td>\n",
       "      <td>500,000,000+</td>\n",
       "      <td>Free</td>\n",
       "      <td>0.0</td>\n",
       "      <td>Everyone</td>\n",
       "      <td>Communication</td>\n",
       "      <td>July 31, 2018</td>\n",
       "      <td>37.1.206017801.DR37_RC14</td>\n",
       "      <td>4.4 and up</td>\n",
       "    </tr>\n",
       "    <tr>\n",
       "      <th>378</th>\n",
       "      <td>UC Browser - Fast Download Private &amp; Secure</td>\n",
       "      <td>COMMUNICATION</td>\n",
       "      <td>4.5</td>\n",
       "      <td>17712922.0</td>\n",
       "      <td>40.0</td>\n",
       "      <td>500,000,000+</td>\n",
       "      <td>Free</td>\n",
       "      <td>0.0</td>\n",
       "      <td>Teen</td>\n",
       "      <td>Communication</td>\n",
       "      <td>August 2, 2018</td>\n",
       "      <td>12.8.5.1121</td>\n",
       "      <td>4.0 and up</td>\n",
       "    </tr>\n",
       "    <tr>\n",
       "      <th>383</th>\n",
       "      <td>imo free video calls and chat</td>\n",
       "      <td>COMMUNICATION</td>\n",
       "      <td>4.3</td>\n",
       "      <td>4785988.0</td>\n",
       "      <td>11.0</td>\n",
       "      <td>500,000,000+</td>\n",
       "      <td>Free</td>\n",
       "      <td>0.0</td>\n",
       "      <td>Everyone</td>\n",
       "      <td>Communication</td>\n",
       "      <td>June 8, 2018</td>\n",
       "      <td>9.8.000000010501</td>\n",
       "      <td>4.0 and up</td>\n",
       "    </tr>\n",
       "    <tr>\n",
       "      <th>...</th>\n",
       "      <td>...</td>\n",
       "      <td>...</td>\n",
       "      <td>...</td>\n",
       "      <td>...</td>\n",
       "      <td>...</td>\n",
       "      <td>...</td>\n",
       "      <td>...</td>\n",
       "      <td>...</td>\n",
       "      <td>...</td>\n",
       "      <td>...</td>\n",
       "      <td>...</td>\n",
       "      <td>...</td>\n",
       "      <td>...</td>\n",
       "    </tr>\n",
       "    <tr>\n",
       "      <th>8261</th>\n",
       "      <td>MARVEL Contest of Champions</td>\n",
       "      <td>GAME</td>\n",
       "      <td>4.3</td>\n",
       "      <td>2468915.0</td>\n",
       "      <td>92.0</td>\n",
       "      <td>50,000,000+</td>\n",
       "      <td>Free</td>\n",
       "      <td>0.0</td>\n",
       "      <td>Teen</td>\n",
       "      <td>Action</td>\n",
       "      <td>July 30, 2018</td>\n",
       "      <td>19.1.0</td>\n",
       "      <td>4.0.3 and up</td>\n",
       "    </tr>\n",
       "    <tr>\n",
       "      <th>8273</th>\n",
       "      <td>MARVEL Future Fight</td>\n",
       "      <td>FAMILY</td>\n",
       "      <td>4.6</td>\n",
       "      <td>2354042.0</td>\n",
       "      <td>72.0</td>\n",
       "      <td>50,000,000+</td>\n",
       "      <td>Free</td>\n",
       "      <td>0.0</td>\n",
       "      <td>Everyone 10+</td>\n",
       "      <td>Role Playing</td>\n",
       "      <td>July 3, 2018</td>\n",
       "      <td>4.2.0</td>\n",
       "      <td>4.0.3 and up</td>\n",
       "    </tr>\n",
       "    <tr>\n",
       "      <th>8399</th>\n",
       "      <td>DEER HUNTER CLASSIC</td>\n",
       "      <td>GAME</td>\n",
       "      <td>4.4</td>\n",
       "      <td>3941129.0</td>\n",
       "      <td>77.0</td>\n",
       "      <td>50,000,000+</td>\n",
       "      <td>Free</td>\n",
       "      <td>0.0</td>\n",
       "      <td>Teen</td>\n",
       "      <td>Action</td>\n",
       "      <td>July 16, 2018</td>\n",
       "      <td>3.12.0</td>\n",
       "      <td>3.0 and up</td>\n",
       "    </tr>\n",
       "    <tr>\n",
       "      <th>9140</th>\n",
       "      <td>EA SPORTS UFC®</td>\n",
       "      <td>SPORTS</td>\n",
       "      <td>4.5</td>\n",
       "      <td>2371338.0</td>\n",
       "      <td>37.0</td>\n",
       "      <td>50,000,000+</td>\n",
       "      <td>Free</td>\n",
       "      <td>0.0</td>\n",
       "      <td>Teen</td>\n",
       "      <td>Sports</td>\n",
       "      <td>July 24, 2017</td>\n",
       "      <td>1.9.3097721</td>\n",
       "      <td>2.3.3 and up</td>\n",
       "    </tr>\n",
       "    <tr>\n",
       "      <th>9142</th>\n",
       "      <td>Need for Speed™ No Limits</td>\n",
       "      <td>GAME</td>\n",
       "      <td>4.4</td>\n",
       "      <td>3344300.0</td>\n",
       "      <td>22.0</td>\n",
       "      <td>50,000,000+</td>\n",
       "      <td>Free</td>\n",
       "      <td>0.0</td>\n",
       "      <td>Everyone 10+</td>\n",
       "      <td>Racing</td>\n",
       "      <td>July 24, 2018</td>\n",
       "      <td>2.12.1</td>\n",
       "      <td>4.1 and up</td>\n",
       "    </tr>\n",
       "  </tbody>\n",
       "</table>\n",
       "<p>83 rows × 13 columns</p>\n",
       "</div>"
      ],
      "text/plain": [
       "                                              App       Category  Rating  \\\n",
       "342                               Viber Messenger  COMMUNICATION     4.3   \n",
       "347                 imo free video calls and chat  COMMUNICATION     4.3   \n",
       "371         Google Duo - High Quality Video Calls  COMMUNICATION     4.6   \n",
       "378   UC Browser - Fast Download Private & Secure  COMMUNICATION     4.5   \n",
       "383                 imo free video calls and chat  COMMUNICATION     4.3   \n",
       "...                                           ...            ...     ...   \n",
       "8261                  MARVEL Contest of Champions           GAME     4.3   \n",
       "8273                          MARVEL Future Fight         FAMILY     4.6   \n",
       "8399                          DEER HUNTER CLASSIC           GAME     4.4   \n",
       "9140                               EA SPORTS UFC®         SPORTS     4.5   \n",
       "9142                    Need for Speed™ No Limits           GAME     4.4   \n",
       "\n",
       "         Reviews  Size      Installs  Type  Price Content Rating  \\\n",
       "342   11334799.0   NaN  500,000,000+  Free    0.0       Everyone   \n",
       "347    4785892.0  11.0  500,000,000+  Free    0.0       Everyone   \n",
       "371    2083237.0   NaN  500,000,000+  Free    0.0       Everyone   \n",
       "378   17712922.0  40.0  500,000,000+  Free    0.0           Teen   \n",
       "383    4785988.0  11.0  500,000,000+  Free    0.0       Everyone   \n",
       "...          ...   ...           ...   ...    ...            ...   \n",
       "8261   2468915.0  92.0   50,000,000+  Free    0.0           Teen   \n",
       "8273   2354042.0  72.0   50,000,000+  Free    0.0   Everyone 10+   \n",
       "8399   3941129.0  77.0   50,000,000+  Free    0.0           Teen   \n",
       "9140   2371338.0  37.0   50,000,000+  Free    0.0           Teen   \n",
       "9142   3344300.0  22.0   50,000,000+  Free    0.0   Everyone 10+   \n",
       "\n",
       "             Genres    Last Updated               Current Ver  \\\n",
       "342   Communication   July 18, 2018        Varies with device   \n",
       "347   Communication    June 8, 2018          9.8.000000010501   \n",
       "371   Communication   July 31, 2018  37.1.206017801.DR37_RC14   \n",
       "378   Communication  August 2, 2018               12.8.5.1121   \n",
       "383   Communication    June 8, 2018          9.8.000000010501   \n",
       "...             ...             ...                       ...   \n",
       "8261         Action   July 30, 2018                    19.1.0   \n",
       "8273   Role Playing    July 3, 2018                     4.2.0   \n",
       "8399         Action   July 16, 2018                    3.12.0   \n",
       "9140         Sports   July 24, 2017               1.9.3097721   \n",
       "9142         Racing   July 24, 2018                    2.12.1   \n",
       "\n",
       "             Android Ver  \n",
       "342   Varies with device  \n",
       "347           4.0 and up  \n",
       "371           4.4 and up  \n",
       "378           4.0 and up  \n",
       "383           4.0 and up  \n",
       "...                  ...  \n",
       "8261        4.0.3 and up  \n",
       "8273        4.0.3 and up  \n",
       "8399          3.0 and up  \n",
       "9140        2.3.3 and up  \n",
       "9142          4.1 and up  \n",
       "\n",
       "[83 rows x 13 columns]"
      ]
     },
     "execution_count": 53,
     "metadata": {},
     "output_type": "execute_result"
    }
   ],
   "source": [
    "high_Reviews_records "
   ]
  },
  {
   "cell_type": "code",
   "execution_count": 54,
   "id": "2a00b341-0705-4118-bec8-d310b50ebc76",
   "metadata": {},
   "outputs": [
    {
     "name": "stdout",
     "output_type": "stream",
     "text": [
      "<class 'pandas.core.frame.DataFrame'>\n",
      "Int64Index: 83 entries, 342 to 9142\n",
      "Data columns (total 13 columns):\n",
      " #   Column          Non-Null Count  Dtype  \n",
      "---  ------          --------------  -----  \n",
      " 0   App             83 non-null     object \n",
      " 1   Category        83 non-null     object \n",
      " 2   Rating          83 non-null     float64\n",
      " 3   Reviews         83 non-null     float64\n",
      " 4   Size            47 non-null     float64\n",
      " 5   Installs        83 non-null     object \n",
      " 6   Type            83 non-null     object \n",
      " 7   Price           83 non-null     float64\n",
      " 8   Content Rating  83 non-null     object \n",
      " 9   Genres          83 non-null     object \n",
      " 10  Last Updated    83 non-null     object \n",
      " 11  Current Ver     83 non-null     object \n",
      " 12  Android Ver     83 non-null     object \n",
      "dtypes: float64(4), object(9)\n",
      "memory usage: 9.1+ KB\n"
     ]
    }
   ],
   "source": [
    "data.info()"
   ]
  },
  {
   "cell_type": "code",
   "execution_count": null,
   "id": "5a86f64b-a94e-4cbc-ba05-c0dd2bf348b7",
   "metadata": {},
   "outputs": [],
   "source": [
    "#Bivariate analysis: Let’s look at how the available predictors relate to the variable of interest, i.e., our target variable rating. \n",
    "#Make scatter plots (for numeric features) and box plots (for character features) to assess the relations between rating and the other features."
   ]
  },
  {
   "cell_type": "code",
   "execution_count": null,
   "id": "1563251b-bc68-4033-bfdc-152f8b553eeb",
   "metadata": {},
   "outputs": [],
   "source": [
    "#Make scatter plot/joinplot for Rating vs. Price\n",
    "\n",
    "#What pattern do you observe? Does rating increase with price?"
   ]
  },
  {
   "cell_type": "code",
   "execution_count": 57,
   "id": "7d9da11e-1734-4bfe-9971-afa56145552d",
   "metadata": {},
   "outputs": [
    {
     "data": {
      "image/png": "[encoded data removed]",
      "text/plain": [
       "<Figure size 720x576 with 1 Axes>"
      ]
     },
     "metadata": {
      "needs_background": "light"
     },
     "output_type": "display_data"
    }
   ],
   "source": [
    "plt.figure(figsize=(10,8))\n",
    "\n",
    "sns.scatterplot(x='Price', y='Rating', data=data)\n",
    "plt.title('Scatter Plot of Rating vs Price')\n",
    "plt.show()"
   ]
  },
  {
   "cell_type": "code",
   "execution_count": null,
   "id": "f936caa3-52de-4dfc-b873-f862598bc6b1",
   "metadata": {},
   "outputs": [],
   "source": [
    "# Observations : Rating Remains same with the price as price is Zero all are free "
   ]
  },
  {
   "cell_type": "code",
   "execution_count": null,
   "id": "d557f8db-c701-4086-a3f2-8f01f80b9a20",
   "metadata": {},
   "outputs": [],
   "source": [
    "#Make scatter plot/joinplot for Rating vs. Size\n",
    "\n",
    "##Are heavier apps rated better?"
   ]
  },
  {
   "cell_type": "code",
   "execution_count": 59,
   "id": "8a98ba81-cc90-4ff9-ab2b-20a59480af7c",
   "metadata": {},
   "outputs": [
    {
     "data": {
      "image/png": "[encoded data removed]",
      "text/plain": [
       "<Figure size 720x576 with 1 Axes>"
      ]
     },
     "metadata": {
      "needs_background": "light"
     },
     "output_type": "display_data"
    }
   ],
   "source": [
    "plt.figure(figsize=(10,8))\n",
    "\n",
    "sns.scatterplot(x='Rating', y='Size', data=data)\n",
    "plt.title('Scatter Plot of Rating vs Size')\n",
    "plt.show()"
   ]
  },
  {
   "cell_type": "code",
   "execution_count": null,
   "id": "386fff10-99fc-4b97-880e-c3d7d8bd85c0",
   "metadata": {},
   "outputs": [],
   "source": [
    "# Observations :  here lesser the size more the rating"
   ]
  },
  {
   "cell_type": "code",
   "execution_count": null,
   "id": "cd69b671-64c1-4f16-a1ad-df120e8ee809",
   "metadata": {},
   "outputs": [],
   "source": [
    "##Make scatter plot/joinplot for Rating vs. Reviews\n",
    "\n",
    "##Does more review mean a better rating always?\n"
   ]
  },
  {
   "cell_type": "code",
   "execution_count": 61,
   "id": "42f18d40-a6bb-49f7-b9e5-bf28ccdccbb7",
   "metadata": {},
   "outputs": [
    {
     "data": {
      "image/png": "[encoded data removed]",
      "text/plain": [
       "<Figure size 720x576 with 1 Axes>"
      ]
     },
     "metadata": {
      "needs_background": "light"
     },
     "output_type": "display_data"
    }
   ],
   "source": [
    "plt.figure(figsize=(10,8))\n",
    "\n",
    "sns.scatterplot(x='Rating', y='Reviews', data=data)\n",
    "plt.title('Scatter Plot of Rating vs Review')\n",
    "plt.show()"
   ]
  },
  {
   "cell_type": "code",
   "execution_count": null,
   "id": "e9464ad4-f0e5-4938-9cb5-27746b5b8af0",
   "metadata": {},
   "outputs": [],
   "source": [
    "# Observations :  more Review doesent mean better Rating always"
   ]
  },
  {
   "cell_type": "code",
   "execution_count": null,
   "id": "d1a0873f-5bcf-460c-b05c-6242c31f063a",
   "metadata": {},
   "outputs": [],
   "source": [
    "#Make boxplot for Rating vs. Content Rating\n",
    "\n",
    "#Is there any difference in the ratings? Are some types liked better?"
   ]
  },
  {
   "cell_type": "code",
   "execution_count": 62,
   "id": "dc1476e6-e7c5-45ac-8cfa-dec08b1a7c3e",
   "metadata": {},
   "outputs": [
    {
     "data": {
      "image/png": "[encoded data removed]",
      "text/plain": [
       "<Figure size 720x576 with 1 Axes>"
      ]
     },
     "metadata": {
      "needs_background": "light"
     },
     "output_type": "display_data"
    }
   ],
   "source": [
    "plt.figure(figsize=(10,8))\n",
    "\n",
    "sns.boxplot(x='Rating', y='Content Rating', data=data)\n",
    "plt.title('Scatter Plot of Rating vs Content Rating')\n",
    "plt.show()"
   ]
  },
  {
   "cell_type": "code",
   "execution_count": null,
   "id": "f3768a38-3805-4248-b73b-e3f23de9eb90",
   "metadata": {},
   "outputs": [],
   "source": [
    "## Observations :  Everyones content is liked better"
   ]
  },
  {
   "cell_type": "code",
   "execution_count": null,
   "id": "7e14bac4-fbbd-4724-99cb-cff372f1c6db",
   "metadata": {},
   "outputs": [],
   "source": [
    "##Make boxplot for Ratings vs. Category\n",
    "\n",
    "##Which genre has the best ratings?"
   ]
  },
  {
   "cell_type": "code",
   "execution_count": 65,
   "id": "d75cd1e7-6377-4eb4-b27a-c20d5d9be56c",
   "metadata": {},
   "outputs": [
    {
     "data": {
      "image/png": "[encoded data removed]",
      "text/plain": [
       "<Figure size 720x576 with 1 Axes>"
      ]
     },
     "metadata": {
      "needs_background": "light"
     },
     "output_type": "display_data"
    }
   ],
   "source": [
    "plt.figure(figsize=(10,8))\n",
    "\n",
    "sns.boxplot(x='Rating', y='Category', data=data)\n",
    "plt.title('Scatter Plot of Rating vs Category')\n",
    "plt.show()"
   ]
  },
  {
   "cell_type": "code",
   "execution_count": null,
   "id": "3e1e4ff4-28eb-4ea3-a754-4e89287d034c",
   "metadata": {},
   "outputs": [],
   "source": [
    "## Observations : TOOLS and videoplayers has the best rating"
   ]
  },
  {
   "cell_type": "code",
   "execution_count": 66,
   "id": "e923498c-99ca-41d6-ac15-53e4ae4aa9cd",
   "metadata": {},
   "outputs": [],
   "source": [
    "###8. Data preprocessing"
   ]
  },
  {
   "cell_type": "code",
   "execution_count": 74,
   "id": "9a0e29bf-7ebd-485f-9caf-8a7c39ac58a1",
   "metadata": {},
   "outputs": [],
   "source": [
    "inp1=data.copy()\n",
    "\n",
    "import numpy as np\n",
    "inp1['Installs'] = pd.to_numeric(inp1['Installs'], errors='coerce')\n",
    "\n",
    "\n",
    "inp1['Reviews'] = np.log1p(inp1['Reviews'])\n",
    "inp1['Installs'] = np.log1p(inp1['Installs'])\n"
   ]
  },
  {
   "cell_type": "code",
   "execution_count": null,
   "id": "48afbac3-1273-40c8-8c42-7e9e15cff6c8",
   "metadata": {},
   "outputs": [],
   "source": [
    "##Drop columns App, Last Updated, Current Ver, and Android Ver. These variables are not useful for our task."
   ]
  },
  {
   "cell_type": "code",
   "execution_count": 75,
   "id": "daf10964-6974-41f2-b469-bc91130bcb0d",
   "metadata": {},
   "outputs": [],
   "source": [
    "inp1.drop(['App', 'Last Updated', 'Current Ver', 'Android Ver'], axis=1, inplace=True)"
   ]
  },
  {
   "cell_type": "code",
   "execution_count": 77,
   "id": "7068e6ac-75a2-4745-a9ce-564ba48222d4",
   "metadata": {},
   "outputs": [],
   "source": [
    "inp2=pd.get_dummies(inp1,columns=['Category', 'Genres', 'Content Rating'],drop_first=True)"
   ]
  },
  {
   "cell_type": "code",
   "execution_count": null,
   "id": "bbb87be6-fddb-4fd6-8e23-61808cdd89f6",
   "metadata": {},
   "outputs": [],
   "source": [
    "##. Train test split  and apply 70-30 split. Name the new dataframes df_train and df_test."
   ]
  },
  {
   "cell_type": "code",
   "execution_count": 79,
   "id": "f7d655b4-c497-44ea-8731-9e3ba94aedc8",
   "metadata": {},
   "outputs": [],
   "source": [
    "from sklearn.model_selection import train_test_split\n",
    "\n",
    "# Assuming your target variable is 'Rating'\n",
    "X = inp2.drop('Rating', axis=1)\n",
    "y = inp2['Rating']\n",
    "\n",
    "df_train, df_test = train_test_split(inp2, test_size=0.3, random_state=42)"
   ]
  },
  {
   "cell_type": "code",
   "execution_count": null,
   "id": "53fb60b5-fe5b-4341-85b5-3a82dced192e",
   "metadata": {},
   "outputs": [],
   "source": [
    "# Separate the dataframes into X_train, y_train, X_test, and y_test."
   ]
  },
  {
   "cell_type": "code",
   "execution_count": 80,
   "id": "3d847c40-7cdc-484d-bfdc-417f6cb12406",
   "metadata": {},
   "outputs": [],
   "source": [
    "X_train = df_train.drop('Rating', axis=1)\n",
    "y_train = df_train['Rating']\n",
    "\n",
    "X_test = df_test.drop('Rating', axis=1)\n",
    "y_test = df_test['Rating']"
   ]
  },
  {
   "cell_type": "code",
   "execution_count": null,
   "id": "6b586d45-a8e4-4479-be0f-ad7c2a7e4295",
   "metadata": {},
   "outputs": [],
   "source": [
    "#Model building\n",
    "\n",
    "#Use linear regression as the technique\n",
    "\n",
    "#Report the R2 on the train set"
   ]
  },
  {
   "cell_type": "code",
   "execution_count": 84,
   "id": "ead3c318-467a-4e04-b4e4-620438c09e75",
   "metadata": {},
   "outputs": [
    {
     "name": "stdout",
     "output_type": "stream",
     "text": [
      "R2 on the train set: 0.2229\n",
      "R2 on the test set: -0.1270\n"
     ]
    }
   ],
   "source": [
    "from sklearn.compose import ColumnTransformer\n",
    "from sklearn.impute import SimpleImputer\n",
    "from sklearn.pipeline import Pipeline\n",
    "from sklearn.preprocessing import OneHotEncoder\n",
    "from sklearn.linear_model import LinearRegression\n",
    "from sklearn.model_selection import train_test_split\n",
    "from sklearn.metrics import r2_score\n",
    "\n",
    "# Assuming X_train, y_train, X_test, and y_test are already defined\n",
    "\n",
    "# Identify numeric and categorical columns\n",
    "numeric_cols = X_train.select_dtypes(include=['float64', 'int64']).columns\n",
    "categorical_cols = X_train.select_dtypes(include=['object']).columns\n",
    "\n",
    "# Create transformers for numeric and categorical data\n",
    "numeric_transformer = Pipeline(steps=[\n",
    "    ('imputer', SimpleImputer(strategy='mean'))\n",
    "])\n",
    "\n",
    "categorical_transformer = Pipeline(steps=[\n",
    "    ('imputer', SimpleImputer(strategy='constant', fill_value='missing')),\n",
    "    ('onehot', OneHotEncoder(handle_unknown='ignore'))\n",
    "])\n",
    "\n",
    "# Create a column transformer\n",
    "preprocessor = ColumnTransformer(\n",
    "    transformers=[\n",
    "        ('num', numeric_transformer, numeric_cols),\n",
    "        ('cat', categorical_transformer, categorical_cols)\n",
    "    ])\n",
    "\n",
    "# Create a pipeline with the ColumnTransformer and the Linear Regression model\n",
    "model = Pipeline(steps=[('preprocessor', preprocessor),\n",
    "                          ('regressor', LinearRegression())])\n",
    "\n",
    "# Fit the model on the training data\n",
    "model.fit(X_train, y_train)\n",
    "\n",
    "# Predict on the training set and calculate R2\n",
    "y_train_pred = model.predict(X_train)\n",
    "r2_train = r2_score(y_train, y_train_pred)\n",
    "\n",
    "# Print R2 on the training set\n",
    "print(f'R2 on the train set: {r2_train:.4f}')\n",
    "\n",
    "# Predict on the test set\n",
    "y_test_pred = model.predict(X_test)\n",
    "\n",
    "# Calculate R2 on the test set\n",
    "r2_test = r2_score(y_test, y_test_pred)\n",
    "\n",
    "# Print R2 on the test set\n",
    "print(f'R2 on the test set: {r2_test:.4f}')"
   ]
  },
  {
   "cell_type": "code",
   "execution_count": 85,
   "id": "d8c88d0f-210b-4350-accb-57fd0c604e8d",
   "metadata": {},
   "outputs": [
    {
     "name": "stdout",
     "output_type": "stream",
     "text": [
      "R2 on the test set: -0.1270\n"
     ]
    }
   ],
   "source": [
    "# Predict on the test set\n",
    "y_test_pred = model.predict(X_test)\n",
    "\n",
    "# Calculate R2 on the test set\n",
    "r2_test = r2_score(y_test, y_test_pred)\n",
    "\n",
    "# Print R2 on the test set\n",
    "print(f'R2 on the test set: {r2_test:.4f}')"
   ]
  },
  {
   "cell_type": "code",
   "execution_count": null,
   "id": "f48d07d0-f46d-4d22-96e3-4359e75f382a",
   "metadata": {},
   "outputs": [],
   "source": []
  }
 ],
 "metadata": {
  "kernelspec": {
   "display_name": "Python 3 (ipykernel)",
   "language": "python",
   "name": "python3"
  },
  "language_info": {
   "codemirror_mode": {
    "name": "ipython",
    "version": 3
   },
   "file_extension": ".py",
   "mimetype": "text/x-python",
   "name": "python",
   "nbconvert_exporter": "python",
   "pygments_lexer": "ipython3",
   "version": "3.11.5"
  }
 },
 "nbformat": 4,
 "nbformat_minor": 5
}
